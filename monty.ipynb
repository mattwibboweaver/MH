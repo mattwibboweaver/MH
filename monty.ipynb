{
 "cells": [
  {
   "cell_type": "code",
   "execution_count": 89,
   "metadata": {},
   "outputs": [],
   "source": [
    "import random\n",
    "import pandas as pd\n",
    "import matplotlib.pyplot as plt\n",
    "import seaborn as sns\n",
    "\n",
    "def SetupDoors():\n",
    "    # Create 3 doors and hide a prize behind one of them (True = Prize)\n",
    "    doors = [False, False, False]\n",
    "    prize = random.randint(0, 2)\n",
    "    doors[prize] = True\n",
    "    \n",
    "    return doors\n"
   ]
  },
  {
   "cell_type": "code",
   "execution_count": 90,
   "metadata": {},
   "outputs": [],
   "source": [
    "numberOfTries = 10000"
   ]
  },
  {
   "cell_type": "code",
   "execution_count": 91,
   "metadata": {},
   "outputs": [
    {
     "name": "stdout",
     "output_type": "stream",
     "text": [
      "Chose 3318 (or 33.18%) correctly out of 10000 tries.\n"
     ]
    }
   ],
   "source": [
    "correctGuesses = 0\n",
    "correctList = []\n",
    "\n",
    "for tries in range(numberOfTries):\n",
    "    door = SetupDoors()\n",
    "    guess = random.randint(0, 2)\n",
    "    \n",
    "    if door[guess]:\n",
    "        correctGuesses += 1\n",
    "        \n",
    "    correctList.append(door[guess])\n",
    "   \n",
    "dfOneGuess = pd.DataFrame(correctList, columns=['Correct1'])   \n",
    "print(f'Chose {correctGuesses} (or {correctGuesses/numberOfTries*100:.2f}%) correctly out of {numberOfTries} tries.') \n",
    "    "
   ]
  },
  {
   "cell_type": "code",
   "execution_count": 92,
   "metadata": {},
   "outputs": [
    {
     "name": "stdout",
     "output_type": "stream",
     "text": [
      "Chose 6622 (or 66.22%) correctly out of 10000 tries.\n"
     ]
    }
   ],
   "source": [
    "correctGuesses = 0\n",
    "correctList = []\n",
    "\n",
    "for tries in range(numberOfTries):\n",
    "    door = SetupDoors()\n",
    "    guess = random.randint(0, 2)\n",
    "    \n",
    "    # Open a door that has no prize behind it\n",
    "    while True:\n",
    "        openDoor = random.randint(0, 2)\n",
    "        if not door[openDoor] and openDoor != guess:\n",
    "            break\n",
    "    \n",
    "    # Change the guess to the other door\n",
    "    for newGuess in range(3):\n",
    "        if newGuess != guess and newGuess != openDoor:\n",
    "            guess = newGuess\n",
    "            break\n",
    "    \n",
    "    if door[guess]:\n",
    "        correctGuesses += 1\n",
    "        \n",
    "    correctList.append(door[guess])\n",
    "       \n",
    "dfOneGuess['Correct2'] = correctList  \n",
    "print(f'Chose {correctGuesses} (or {correctGuesses/numberOfTries*100:.2f}%) correctly out of {numberOfTries} tries.') \n",
    "    "
   ]
  },
  {
   "cell_type": "code",
   "execution_count": 103,
   "metadata": {},
   "outputs": [
    {
     "data": {
      "text/plain": [
       "[Text(0.5, 0, 'Correct or Incorrect Guess'), Text(0, 0.5, 'Count')]"
      ]
     },
     "execution_count": 103,
     "metadata": {},
     "output_type": "execute_result"
    },
    {
     "data": {
      "image/png": "[encoded data removed]",
      "text/plain": [
       "<Figure size 1600x500 with 2 Axes>"
      ]
     },
     "metadata": {},
     "output_type": "display_data"
    }
   ],
   "source": [
    "fig, ax =plt.subplots(1,2)\n",
    "fig.set_size_inches(16, 5)\n",
    "fig = sns.countplot(x='Correct1', data=dfOneGuess, ax = ax[0])\n",
    "fig = sns.countplot(x='Correct2', data=dfOneGuess, ax = ax[1])\n",
    "ax[0].set(xlabel='Correct or Incorrect Guess', ylabel='Count')\n",
    "ax[1].set(xlabel='Correct or Incorrect Guess', ylabel='Count')"
   ]
  },
  {
   "cell_type": "code",
   "execution_count": null,
   "metadata": {},
   "outputs": [],
   "source": []
  },
  {
   "cell_type": "code",
   "execution_count": null,
   "metadata": {},
   "outputs": [],
   "source": []
  }
 ],
 "metadata": {
  "kernelspec": {
   "display_name": "Python 3.9.13 ('joopeter')",
   "language": "python",
   "name": "python3"
  },
  "language_info": {
   "codemirror_mode": {
    "name": "ipython",
    "version": 3
   },
   "file_extension": ".py",
   "mimetype": "text/x-python",
   "name": "python",
   "nbconvert_exporter": "python",
   "pygments_lexer": "ipython3",
   "version": "3.9.13"
  },
  "orig_nbformat": 4,
  "vscode": {
   "interpreter": {
    "hash": "6c16c86c229f11be414f8e1f167ab3dc8ca5b253fa6c38722d9d646c24fca713"
   }
  }
 },
 "nbformat": 4,
 "nbformat_minor": 2
}
