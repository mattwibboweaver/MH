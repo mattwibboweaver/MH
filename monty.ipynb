{
 "cells": [
  {
   "cell_type": "code",
   "execution_count": 19,
   "metadata": {},
   "outputs": [],
   "source": [
    "import random\n",
    "\n",
    "def SetupDoors():\n",
    "    # Create 3 doors and hide a prize behind one of them\n",
    "    doors = [False, False, False]\n",
    "    prize = random.randint(0, 2)\n",
    "    doors[prize] = True\n",
    "    \n",
    "    return doors\n"
   ]
  },
  {
   "cell_type": "code",
   "execution_count": 20,
   "metadata": {},
   "outputs": [
    {
     "name": "stdout",
     "output_type": "stream",
     "text": [
      "Guessed 3352 correct out of 10000 tries.\n"
     ]
    }
   ],
   "source": [
    "correctGuesses = 0\n",
    "numberOfTries = 10000\n",
    "\n",
    "for tries in range(numberOfTries):\n",
    "    door = SetupDoors()\n",
    "    guess = random.randint(0, 2)\n",
    "    \n",
    "    if door[guess]:\n",
    "        correctGuesses += 1\n",
    "   \n",
    "print(f'Guessed {correctGuesses} (or {correctGuesses/numberOfTries*100}%) correct out of {numberOfTries} tries.') \n",
    "    "
   ]
  },
  {
   "cell_type": "code",
   "execution_count": null,
   "metadata": {},
   "outputs": [],
   "source": []
  },
  {
   "cell_type": "code",
   "execution_count": null,
   "metadata": {},
   "outputs": [],
   "source": []
  },
  {
   "cell_type": "code",
   "execution_count": null,
   "metadata": {},
   "outputs": [],
   "source": []
  }
 ],
 "metadata": {
  "kernelspec": {
   "display_name": "Python 3.9.13 ('joopeter')",
   "language": "python",
   "name": "python3"
  },
  "language_info": {
   "codemirror_mode": {
    "name": "ipython",
    "version": 3
   },
   "file_extension": ".py",
   "mimetype": "text/x-python",
   "name": "python",
   "nbconvert_exporter": "python",
   "pygments_lexer": "ipython3",
   "version": "3.9.13"
  },
  "orig_nbformat": 4,
  "vscode": {
   "interpreter": {
    "hash": "6c16c86c229f11be414f8e1f167ab3dc8ca5b253fa6c38722d9d646c24fca713"
   }
  }
 },
 "nbformat": 4,
 "nbformat_minor": 2
}
